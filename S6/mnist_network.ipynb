{
  "nbformat": 4,
  "nbformat_minor": 0,
  "metadata": {
    "colab": {
      "provenance": [],
      "gpuType": "T4"
    },
    "kernelspec": {
      "name": "python3",
      "display_name": "Python 3"
    },
    "accelerator": "GPU"
  },
  "cells": [
    {
      "cell_type": "code",
      "metadata": {
        "id": "0m2JWFliFfKT"
      },
      "source": [
        "from __future__ import print_function\n",
        "import torch\n",
        "import torch.nn as nn\n",
        "import torch.nn.functional as F\n",
        "import torch.optim as optim\n",
        "from torchvision import datasets, transforms"
      ],
      "execution_count": 1,
      "outputs": []
    },
    {
      "cell_type": "markdown",
      "source": [
        "- How many layers,\n",
        "- MaxPooling,\n",
        "- 1x1 Convolutions,\n",
        "- 3x3 Convolutions,\n",
        "- Receptive Field,\n",
        "- SoftMax,\n",
        "- Learning Rate,\n",
        "- Kernels and how do we decide the number of kernels?\n",
        "- Batch Normalization,\n",
        "- Image Normalization,\n",
        "- Position of MaxPooling,\n",
        "- Concept of Transition Layers,\n",
        "- Position of Transition Layer,\n",
        "- DropOut\n",
        "- When do we introduce DropOut, or when do we know we have some overfitting\n",
        "- The distance of MaxPooling from Prediction,\n",
        "- The distance of Batch Normalization from Prediction,\n",
        "- When do we stop convolutions and go ahead with a larger kernel or some other alternative (which we have not yet covered)\n",
        "- How do we know our network is not going well, comparatively, very early\n",
        "Batch Size, and Effects of batch size"
      ],
      "metadata": {
        "id": "EcXNehDOIHu2"
      }
    },
    {
      "cell_type": "code",
      "source": [
        "class Net_comp(nn.Module):\n",
        "  \n",
        "  def __init__(self):\n",
        "    super(Net_comp, self).__init__()\n",
        "    \n",
        "    self.b1_C = 8\n",
        "    self.b2_C = 14\n",
        "    self.b3_C = 24\n",
        "    self.b4_C = 32\n",
        "    self.dp_p = 0.1\n",
        "    \n",
        "    self.block1_l = []\n",
        "    self.block1_l.append(nn.Conv2d(1, self.b1_C, 3, padding='same', bias=False))\n",
        "    self.block1_l.append(nn.ReLU())\n",
        "    self.block1_l.append(nn.BatchNorm2d(self.b1_C))\n",
        "    self.block1_l.append(nn.Dropout(self.dp_p))\n",
        "    self.block1_l.append(nn.Conv2d(self.b1_C, self.b1_C, 3, padding='same', bias=False))\n",
        "    self.block1_l.append(nn.ReLU())\n",
        "    self.block1_l.append(nn.BatchNorm2d(self.b1_C))\n",
        "    self.block1_l.append(nn.Dropout(self.dp_p))\n",
        "    self.block1 = nn.Sequential(*self.block1_l)\n",
        "    \n",
        "    self.trblock1 = nn.Sequential(nn.MaxPool2d(2, 2), \n",
        "                                  nn.Conv2d(self.b1_C, self.b1_C, 1, bias=False))\n",
        "    \n",
        "\n",
        "    self.block2_l = []\n",
        "    self.block2_l.append(nn.Conv2d(self.b1_C, self.b2_C, 3, padding='same', bias=False))\n",
        "    self.block2_l.append(nn.ReLU())\n",
        "    self.block2_l.append(nn.BatchNorm2d(self.b2_C))\n",
        "    self.block2_l.append(nn.Dropout(self.dp_p))\n",
        "    self.block2_l.append(nn.Conv2d(self.b2_C, self.b2_C, 3, padding='same', bias=False))\n",
        "    self.block2_l.append(nn.ReLU())\n",
        "    self.block2_l.append(nn.BatchNorm2d(self.b2_C))\n",
        "    self.block2_l.append(nn.Dropout(self.dp_p))\n",
        "    self.block2 = nn.Sequential(*self.block2_l)\n",
        "    \n",
        "    self.trblock2 = nn.Sequential(nn.MaxPool2d(2, 2), \n",
        "                                  nn.Conv2d(self.b2_C, self.b2_C, 1, bias=False))\n",
        "\n",
        "    self.block3_l = []\n",
        "    self.block3_l.append(nn.Conv2d(self.b2_C, self.b3_C, 3, padding='same', bias=False))\n",
        "    self.block3_l.append(nn.ReLU())\n",
        "    self.block3_l.append(nn.BatchNorm2d(self.b3_C))\n",
        "    self.block3_l.append(nn.Dropout(self.dp_p))\n",
        "    self.block3_l.append(nn.Conv2d(self.b3_C, self.b3_C, 3, padding='same', bias=False))\n",
        "    self.block3_l.append(nn.ReLU())\n",
        "    self.block3_l.append(nn.BatchNorm2d(self.b3_C))\n",
        "    self.block3_l.append(nn.Dropout(self.dp_p))\n",
        "    self.block3 = nn.Sequential(*self.block3_l)\n",
        "    \n",
        "    self.trblock3 = nn.Sequential(nn.MaxPool2d(2, 2), \n",
        "                                  nn.Conv2d(self.b3_C, self.b3_C, 1, bias=False))\n",
        "    \n",
        "    self.block4_l = []\n",
        "    self.block4_l.append(nn.Conv2d(self.b3_C, self.b4_C, 3, padding='same', bias=False))\n",
        "    self.block4_l.append(nn.ReLU())\n",
        "    self.block4_l.append(nn.BatchNorm2d(self.b4_C))\n",
        "    self.block4_l.append(nn.Dropout(self.dp_p))\n",
        "    self.block4_l.append(nn.Conv2d(self.b4_C, 10, 1, bias=False))\n",
        "    self.block4_l.append(nn.AvgPool2d(3, 2))\n",
        "    self.block4 = nn.Sequential(*self.block4_l)\n",
        "\n",
        "  def forward(self, x):\n",
        "    x = self.block1(x)\n",
        "    x = self.trblock1(x)\n",
        "    x = self.block2(x)\n",
        "    x = self.trblock2(x)\n",
        "    x = self.block3(x)\n",
        "    x = self.trblock3(x)\n",
        "    x = self.block4(x)\n",
        "    x = x.view(-1, 10)\n",
        "    return F.log_softmax(x)"
      ],
      "metadata": {
        "id": "yA6r_9QKNFyW"
      },
      "execution_count": 31,
      "outputs": []
    },
    {
      "cell_type": "code",
      "source": [
        "!pip install torchsummary"
      ],
      "metadata": {
        "id": "_tRSt9ULVzAb",
        "colab": {
          "base_uri": "https://localhost:8080/"
        },
        "outputId": "70bcb298-0321-48cf-e86a-598e99269b76"
      },
      "execution_count": 8,
      "outputs": [
        {
          "output_type": "stream",
          "name": "stdout",
          "text": [
            "Looking in indexes: https://pypi.org/simple, https://us-python.pkg.dev/colab-wheels/public/simple/\n",
            "Requirement already satisfied: torchsummary in /usr/local/lib/python3.10/dist-packages (1.5.1)\n"
          ]
        }
      ]
    },
    {
      "cell_type": "code",
      "metadata": {
        "id": "xdydjYTZFyi3",
        "colab": {
          "base_uri": "https://localhost:8080/"
        },
        "outputId": "8d6711cb-9a0a-4fe5-ad1f-3f4b9e977f05"
      },
      "source": [
        "from torchsummary import summary\n",
        "use_cuda = torch.cuda.is_available()\n",
        "device = torch.device(\"cuda\" if use_cuda else \"cpu\")\n",
        "model = Net_comp().to(device)\n",
        "summary(model, input_size=(1, 28, 28))"
      ],
      "execution_count": 29,
      "outputs": [
        {
          "output_type": "stream",
          "name": "stdout",
          "text": [
            "----------------------------------------------------------------\n",
            "        Layer (type)               Output Shape         Param #\n",
            "================================================================\n",
            "            Conv2d-1            [-1, 8, 28, 28]              72\n",
            "              ReLU-2            [-1, 8, 28, 28]               0\n",
            "       BatchNorm2d-3            [-1, 8, 28, 28]              16\n",
            "           Dropout-4            [-1, 8, 28, 28]               0\n",
            "            Conv2d-5            [-1, 8, 28, 28]             576\n",
            "              ReLU-6            [-1, 8, 28, 28]               0\n",
            "       BatchNorm2d-7            [-1, 8, 28, 28]              16\n",
            "           Dropout-8            [-1, 8, 28, 28]               0\n",
            "         MaxPool2d-9            [-1, 8, 14, 14]               0\n",
            "           Conv2d-10            [-1, 8, 14, 14]              64\n",
            "           Conv2d-11           [-1, 14, 14, 14]           1,008\n",
            "             ReLU-12           [-1, 14, 14, 14]               0\n",
            "      BatchNorm2d-13           [-1, 14, 14, 14]              28\n",
            "          Dropout-14           [-1, 14, 14, 14]               0\n",
            "           Conv2d-15           [-1, 14, 14, 14]           1,764\n",
            "             ReLU-16           [-1, 14, 14, 14]               0\n",
            "      BatchNorm2d-17           [-1, 14, 14, 14]              28\n",
            "          Dropout-18           [-1, 14, 14, 14]               0\n",
            "        MaxPool2d-19             [-1, 14, 7, 7]               0\n",
            "           Conv2d-20             [-1, 14, 7, 7]             196\n",
            "           Conv2d-21             [-1, 24, 7, 7]           3,024\n",
            "             ReLU-22             [-1, 24, 7, 7]               0\n",
            "      BatchNorm2d-23             [-1, 24, 7, 7]              48\n",
            "          Dropout-24             [-1, 24, 7, 7]               0\n",
            "           Conv2d-25             [-1, 24, 7, 7]           5,184\n",
            "             ReLU-26             [-1, 24, 7, 7]               0\n",
            "      BatchNorm2d-27             [-1, 24, 7, 7]              48\n",
            "          Dropout-28             [-1, 24, 7, 7]               0\n",
            "        MaxPool2d-29             [-1, 24, 3, 3]               0\n",
            "           Conv2d-30             [-1, 24, 3, 3]             576\n",
            "           Conv2d-31             [-1, 32, 3, 3]           6,912\n",
            "             ReLU-32             [-1, 32, 3, 3]               0\n",
            "      BatchNorm2d-33             [-1, 32, 3, 3]              64\n",
            "          Dropout-34             [-1, 32, 3, 3]               0\n",
            "           Conv2d-35             [-1, 10, 3, 3]             320\n",
            "        AvgPool2d-36             [-1, 10, 1, 1]               0\n",
            "================================================================\n",
            "Total params: 19,944\n",
            "Trainable params: 19,944\n",
            "Non-trainable params: 0\n",
            "----------------------------------------------------------------\n",
            "Input size (MB): 0.00\n",
            "Forward/backward pass size (MB): 0.67\n",
            "Params size (MB): 0.08\n",
            "Estimated Total Size (MB): 0.75\n",
            "----------------------------------------------------------------\n"
          ]
        },
        {
          "output_type": "stream",
          "name": "stderr",
          "text": [
            "<ipython-input-28-56f086c9c1c0>:73: UserWarning: Implicit dimension choice for log_softmax has been deprecated. Change the call to include dim=X as an argument.\n",
            "  return F.log_softmax(x)\n"
          ]
        }
      ]
    },
    {
      "cell_type": "code",
      "metadata": {
        "id": "DqTWLaM5GHgH",
        "colab": {
          "base_uri": "https://localhost:8080/"
        },
        "outputId": "fa657b36-6238-429c-8fce-4209ff4ed659"
      },
      "source": [
        "torch.manual_seed(1)\n",
        "batch_size = 512\n",
        "\n",
        "kwargs = {'num_workers': 1, 'pin_memory': True} if use_cuda else {}\n",
        "train_loader = torch.utils.data.DataLoader(\n",
        "    datasets.MNIST('../data', train=True, download=True,\n",
        "                    transform=transforms.Compose([\n",
        "                        transforms.ToTensor(),\n",
        "                        transforms.Normalize((0.1307,), (0.3081,))\n",
        "                    ])),\n",
        "    batch_size=batch_size, shuffle=True, **kwargs)\n",
        "test_loader = torch.utils.data.DataLoader(\n",
        "    datasets.MNIST('../data', train=False, transform=transforms.Compose([\n",
        "                        transforms.ToTensor(),\n",
        "                        transforms.Normalize((0.1307,), (0.3081,))\n",
        "                    ])),\n",
        "    batch_size=batch_size, shuffle=True, **kwargs)\n"
      ],
      "execution_count": 20,
      "outputs": [
        {
          "output_type": "stream",
          "name": "stdout",
          "text": [
            "Downloading http://yann.lecun.com/exdb/mnist/train-images-idx3-ubyte.gz\n",
            "Downloading http://yann.lecun.com/exdb/mnist/train-images-idx3-ubyte.gz to ../data/MNIST/raw/train-images-idx3-ubyte.gz\n"
          ]
        },
        {
          "output_type": "stream",
          "name": "stderr",
          "text": [
            "100%|██████████| 9912422/9912422 [00:00<00:00, 195151735.77it/s]"
          ]
        },
        {
          "output_type": "stream",
          "name": "stdout",
          "text": [
            "Extracting ../data/MNIST/raw/train-images-idx3-ubyte.gz to ../data/MNIST/raw\n"
          ]
        },
        {
          "output_type": "stream",
          "name": "stderr",
          "text": [
            "\n"
          ]
        },
        {
          "output_type": "stream",
          "name": "stdout",
          "text": [
            "\n",
            "Downloading http://yann.lecun.com/exdb/mnist/train-labels-idx1-ubyte.gz\n",
            "Downloading http://yann.lecun.com/exdb/mnist/train-labels-idx1-ubyte.gz to ../data/MNIST/raw/train-labels-idx1-ubyte.gz\n"
          ]
        },
        {
          "output_type": "stream",
          "name": "stderr",
          "text": [
            "100%|██████████| 28881/28881 [00:00<00:00, 35482042.71it/s]\n"
          ]
        },
        {
          "output_type": "stream",
          "name": "stdout",
          "text": [
            "Extracting ../data/MNIST/raw/train-labels-idx1-ubyte.gz to ../data/MNIST/raw\n",
            "\n",
            "Downloading http://yann.lecun.com/exdb/mnist/t10k-images-idx3-ubyte.gz\n",
            "Downloading http://yann.lecun.com/exdb/mnist/t10k-images-idx3-ubyte.gz to ../data/MNIST/raw/t10k-images-idx3-ubyte.gz\n"
          ]
        },
        {
          "output_type": "stream",
          "name": "stderr",
          "text": [
            "100%|██████████| 1648877/1648877 [00:00<00:00, 111257724.24it/s]"
          ]
        },
        {
          "output_type": "stream",
          "name": "stdout",
          "text": [
            "Extracting ../data/MNIST/raw/t10k-images-idx3-ubyte.gz to ../data/MNIST/raw\n",
            "\n",
            "Downloading http://yann.lecun.com/exdb/mnist/t10k-labels-idx1-ubyte.gz\n",
            "Downloading http://yann.lecun.com/exdb/mnist/t10k-labels-idx1-ubyte.gz to ../data/MNIST/raw/t10k-labels-idx1-ubyte.gz\n"
          ]
        },
        {
          "output_type": "stream",
          "name": "stderr",
          "text": [
            "\n",
            "100%|██████████| 4542/4542 [00:00<00:00, 22465246.19it/s]\n"
          ]
        },
        {
          "output_type": "stream",
          "name": "stdout",
          "text": [
            "Extracting ../data/MNIST/raw/t10k-labels-idx1-ubyte.gz to ../data/MNIST/raw\n",
            "\n"
          ]
        }
      ]
    },
    {
      "cell_type": "code",
      "metadata": {
        "id": "8fDefDhaFlwH"
      },
      "source": [
        "from tqdm import tqdm\n",
        "def train(model, device, train_loader, optimizer, epoch):\n",
        "    model.train()\n",
        "    pbar = tqdm(train_loader)\n",
        "    for batch_idx, (data, target) in enumerate(pbar):\n",
        "        data, target = data.to(device), target.to(device)\n",
        "        optimizer.zero_grad()\n",
        "        output = model(data)\n",
        "        loss = F.nll_loss(output, target)\n",
        "        loss.backward()\n",
        "        optimizer.step()\n",
        "        pbar.set_description(desc= f'loss={loss.item()} batch_id={batch_idx}')\n",
        "\n",
        "\n",
        "def test(model, device, test_loader):\n",
        "    model.eval()\n",
        "    test_loss = 0\n",
        "    correct = 0\n",
        "    with torch.no_grad():\n",
        "        for data, target in test_loader:\n",
        "            data, target = data.to(device), target.to(device)\n",
        "            output = model(data)\n",
        "            test_loss += F.nll_loss(output, target, reduction='sum').item()  # sum up batch loss\n",
        "            pred = output.argmax(dim=1, keepdim=True)  # get the index of the max log-probability\n",
        "            correct += pred.eq(target.view_as(pred)).sum().item()\n",
        "\n",
        "    test_loss /= len(test_loader.dataset)\n",
        "\n",
        "    print('\\nTest set: Average loss: {:.4f}, Accuracy: {}/{} ({:.0f}%)\\n'.format(\n",
        "        test_loss, correct, len(test_loader.dataset),\n",
        "        100. * correct / len(test_loader.dataset)))"
      ],
      "execution_count": 21,
      "outputs": []
    },
    {
      "cell_type": "code",
      "metadata": {
        "id": "MMWbLWO6FuHb",
        "colab": {
          "base_uri": "https://localhost:8080/"
        },
        "outputId": "c97947f5-a590-438e-d671-9c1f40f88ec8"
      },
      "source": [
        "model = Net_comp().to(device)\n",
        "optimizer = optim.SGD(model.parameters(), lr=0.1, momentum=0.9)\n",
        "scheduler = optim.lr_scheduler.StepLR(optimizer, step_size=10, gamma=0.1, verbose=True)\n",
        "\n",
        "for epoch in range(1, 20):\n",
        "    print(f'[INFO] Epoch #{epoch}')\n",
        "    train(model, device, train_loader, optimizer, epoch)\n",
        "    test(model, device, test_loader)\n",
        "    # Invoke the scheduler\n",
        "    scheduler.step()"
      ],
      "execution_count": 32,
      "outputs": [
        {
          "output_type": "stream",
          "name": "stdout",
          "text": [
            "Adjusting learning rate of group 0 to 1.0000e-01.\n",
            "[INFO] Epoch #1\n"
          ]
        },
        {
          "output_type": "stream",
          "name": "stderr",
          "text": [
            "\r  0%|          | 0/118 [00:00<?, ?it/s]<ipython-input-31-e3a1790c39f2>:73: UserWarning: Implicit dimension choice for log_softmax has been deprecated. Change the call to include dim=X as an argument.\n",
            "  return F.log_softmax(x)\n",
            "loss=0.037816811352968216 batch_id=117: 100%|██████████| 118/118 [00:16<00:00,  7.19it/s]\n"
          ]
        },
        {
          "output_type": "stream",
          "name": "stdout",
          "text": [
            "\n",
            "Test set: Average loss: 0.0960, Accuracy: 9691/10000 (97%)\n",
            "\n",
            "Adjusting learning rate of group 0 to 1.0000e-01.\n",
            "[INFO] Epoch #2\n"
          ]
        },
        {
          "output_type": "stream",
          "name": "stderr",
          "text": [
            "loss=0.0258304625749588 batch_id=117: 100%|██████████| 118/118 [00:16<00:00,  7.17it/s]\n"
          ]
        },
        {
          "output_type": "stream",
          "name": "stdout",
          "text": [
            "\n",
            "Test set: Average loss: 0.0591, Accuracy: 9812/10000 (98%)\n",
            "\n",
            "Adjusting learning rate of group 0 to 1.0000e-01.\n",
            "[INFO] Epoch #3\n"
          ]
        },
        {
          "output_type": "stream",
          "name": "stderr",
          "text": [
            "loss=0.007320983335375786 batch_id=117: 100%|██████████| 118/118 [00:16<00:00,  6.99it/s]\n"
          ]
        },
        {
          "output_type": "stream",
          "name": "stdout",
          "text": [
            "\n",
            "Test set: Average loss: 0.0373, Accuracy: 9882/10000 (99%)\n",
            "\n",
            "Adjusting learning rate of group 0 to 1.0000e-01.\n",
            "[INFO] Epoch #4\n"
          ]
        },
        {
          "output_type": "stream",
          "name": "stderr",
          "text": [
            "loss=0.013876720331609249 batch_id=117: 100%|██████████| 118/118 [00:16<00:00,  7.24it/s]\n"
          ]
        },
        {
          "output_type": "stream",
          "name": "stdout",
          "text": [
            "\n",
            "Test set: Average loss: 0.0289, Accuracy: 9900/10000 (99%)\n",
            "\n",
            "Adjusting learning rate of group 0 to 1.0000e-01.\n",
            "[INFO] Epoch #5\n"
          ]
        },
        {
          "output_type": "stream",
          "name": "stderr",
          "text": [
            "loss=0.025525586679577827 batch_id=117: 100%|██████████| 118/118 [00:17<00:00,  6.89it/s]\n"
          ]
        },
        {
          "output_type": "stream",
          "name": "stdout",
          "text": [
            "\n",
            "Test set: Average loss: 0.0338, Accuracy: 9890/10000 (99%)\n",
            "\n",
            "Adjusting learning rate of group 0 to 1.0000e-01.\n",
            "[INFO] Epoch #6\n"
          ]
        },
        {
          "output_type": "stream",
          "name": "stderr",
          "text": [
            "loss=0.0066220941953361034 batch_id=117: 100%|██████████| 118/118 [00:16<00:00,  7.26it/s]\n"
          ]
        },
        {
          "output_type": "stream",
          "name": "stdout",
          "text": [
            "\n",
            "Test set: Average loss: 0.0240, Accuracy: 9921/10000 (99%)\n",
            "\n",
            "Adjusting learning rate of group 0 to 1.0000e-01.\n",
            "[INFO] Epoch #7\n"
          ]
        },
        {
          "output_type": "stream",
          "name": "stderr",
          "text": [
            "loss=0.00340723036788404 batch_id=117: 100%|██████████| 118/118 [00:17<00:00,  6.79it/s]\n"
          ]
        },
        {
          "output_type": "stream",
          "name": "stdout",
          "text": [
            "\n",
            "Test set: Average loss: 0.0269, Accuracy: 9908/10000 (99%)\n",
            "\n",
            "Adjusting learning rate of group 0 to 1.0000e-01.\n",
            "[INFO] Epoch #8\n"
          ]
        },
        {
          "output_type": "stream",
          "name": "stderr",
          "text": [
            "loss=0.032553330063819885 batch_id=117: 100%|██████████| 118/118 [00:16<00:00,  7.14it/s]\n"
          ]
        },
        {
          "output_type": "stream",
          "name": "stdout",
          "text": [
            "\n",
            "Test set: Average loss: 0.0257, Accuracy: 9912/10000 (99%)\n",
            "\n",
            "Adjusting learning rate of group 0 to 1.0000e-01.\n",
            "[INFO] Epoch #9\n"
          ]
        },
        {
          "output_type": "stream",
          "name": "stderr",
          "text": [
            "loss=0.016936499625444412 batch_id=117: 100%|██████████| 118/118 [00:17<00:00,  6.90it/s]\n"
          ]
        },
        {
          "output_type": "stream",
          "name": "stdout",
          "text": [
            "\n",
            "Test set: Average loss: 0.0272, Accuracy: 9908/10000 (99%)\n",
            "\n",
            "Adjusting learning rate of group 0 to 1.0000e-01.\n",
            "[INFO] Epoch #10\n"
          ]
        },
        {
          "output_type": "stream",
          "name": "stderr",
          "text": [
            "loss=0.05624702572822571 batch_id=117: 100%|██████████| 118/118 [00:16<00:00,  7.24it/s]\n"
          ]
        },
        {
          "output_type": "stream",
          "name": "stdout",
          "text": [
            "\n",
            "Test set: Average loss: 0.0211, Accuracy: 9931/10000 (99%)\n",
            "\n",
            "Adjusting learning rate of group 0 to 1.0000e-02.\n",
            "[INFO] Epoch #11\n"
          ]
        },
        {
          "output_type": "stream",
          "name": "stderr",
          "text": [
            "loss=0.003901348216459155 batch_id=117: 100%|██████████| 118/118 [00:16<00:00,  7.11it/s]\n"
          ]
        },
        {
          "output_type": "stream",
          "name": "stdout",
          "text": [
            "\n",
            "Test set: Average loss: 0.0190, Accuracy: 9942/10000 (99%)\n",
            "\n",
            "Adjusting learning rate of group 0 to 1.0000e-02.\n",
            "[INFO] Epoch #12\n"
          ]
        },
        {
          "output_type": "stream",
          "name": "stderr",
          "text": [
            "loss=0.006250044796615839 batch_id=117: 100%|██████████| 118/118 [00:16<00:00,  7.27it/s]\n"
          ]
        },
        {
          "output_type": "stream",
          "name": "stdout",
          "text": [
            "\n",
            "Test set: Average loss: 0.0178, Accuracy: 9944/10000 (99%)\n",
            "\n",
            "Adjusting learning rate of group 0 to 1.0000e-02.\n",
            "[INFO] Epoch #13\n"
          ]
        },
        {
          "output_type": "stream",
          "name": "stderr",
          "text": [
            "loss=0.0026227058842778206 batch_id=117: 100%|██████████| 118/118 [00:16<00:00,  7.07it/s]\n"
          ]
        },
        {
          "output_type": "stream",
          "name": "stdout",
          "text": [
            "\n",
            "Test set: Average loss: 0.0179, Accuracy: 9941/10000 (99%)\n",
            "\n",
            "Adjusting learning rate of group 0 to 1.0000e-02.\n",
            "[INFO] Epoch #14\n"
          ]
        },
        {
          "output_type": "stream",
          "name": "stderr",
          "text": [
            "loss=0.011182881891727448 batch_id=117: 100%|██████████| 118/118 [00:16<00:00,  7.09it/s]\n"
          ]
        },
        {
          "output_type": "stream",
          "name": "stdout",
          "text": [
            "\n",
            "Test set: Average loss: 0.0170, Accuracy: 9946/10000 (99%)\n",
            "\n",
            "Adjusting learning rate of group 0 to 1.0000e-02.\n",
            "[INFO] Epoch #15\n"
          ]
        },
        {
          "output_type": "stream",
          "name": "stderr",
          "text": [
            "loss=0.01165840309113264 batch_id=117: 100%|██████████| 118/118 [00:16<00:00,  7.27it/s]\n"
          ]
        },
        {
          "output_type": "stream",
          "name": "stdout",
          "text": [
            "\n",
            "Test set: Average loss: 0.0173, Accuracy: 9943/10000 (99%)\n",
            "\n",
            "Adjusting learning rate of group 0 to 1.0000e-02.\n",
            "[INFO] Epoch #16\n"
          ]
        },
        {
          "output_type": "stream",
          "name": "stderr",
          "text": [
            "loss=0.021377524361014366 batch_id=117: 100%|██████████| 118/118 [00:17<00:00,  6.92it/s]\n"
          ]
        },
        {
          "output_type": "stream",
          "name": "stdout",
          "text": [
            "\n",
            "Test set: Average loss: 0.0173, Accuracy: 9944/10000 (99%)\n",
            "\n",
            "Adjusting learning rate of group 0 to 1.0000e-02.\n",
            "[INFO] Epoch #17\n"
          ]
        },
        {
          "output_type": "stream",
          "name": "stderr",
          "text": [
            "loss=0.047514963895082474 batch_id=117: 100%|██████████| 118/118 [00:16<00:00,  7.27it/s]\n"
          ]
        },
        {
          "output_type": "stream",
          "name": "stdout",
          "text": [
            "\n",
            "Test set: Average loss: 0.0169, Accuracy: 9943/10000 (99%)\n",
            "\n",
            "Adjusting learning rate of group 0 to 1.0000e-02.\n",
            "[INFO] Epoch #18\n"
          ]
        },
        {
          "output_type": "stream",
          "name": "stderr",
          "text": [
            "loss=0.030348142609000206 batch_id=117: 100%|██████████| 118/118 [00:16<00:00,  6.97it/s]\n"
          ]
        },
        {
          "output_type": "stream",
          "name": "stdout",
          "text": [
            "\n",
            "Test set: Average loss: 0.0164, Accuracy: 9946/10000 (99%)\n",
            "\n",
            "Adjusting learning rate of group 0 to 1.0000e-02.\n",
            "[INFO] Epoch #19\n"
          ]
        },
        {
          "output_type": "stream",
          "name": "stderr",
          "text": [
            "loss=0.03849955275654793 batch_id=117: 100%|██████████| 118/118 [00:16<00:00,  7.27it/s]\n"
          ]
        },
        {
          "output_type": "stream",
          "name": "stdout",
          "text": [
            "\n",
            "Test set: Average loss: 0.0170, Accuracy: 9943/10000 (99%)\n",
            "\n",
            "Adjusting learning rate of group 0 to 1.0000e-02.\n"
          ]
        }
      ]
    }
  ]
}